{
  "cells": [
    {
      "cell_type": "markdown",
      "metadata": {
        "id": "DgGc4qaTjPrU"
      },
      "source": [
        "Welcome to assignment 1.                                                       \n",
        "\n",
        "We are using pathology images for our first assignment please download data from this link https://drive.google.com/drive/folders/10dUOzcPR-PQwfFYcHk5gsLjIjSorQ32Q?usp=sharing"
      ]
    },
    {
      "cell_type": "markdown",
      "metadata": {
        "id": "4s4K2S-dhTnF"
      },
      "source": [
        "\n",
        "\n",
        "# Task 1: Feature Generation (15%)\n",
        "# Use and run the following code (a deep network) to generate features from a set of training images. For this assignment, you do not need to know how the deep network is working here to extract features.\n",
        "# This code extracts the features of image T4.tif (in the T folder of dataset). Modify the code so that it iterates over all images of the dataset and extracts their features.\n",
        "# Allocate 10% of the data for validation.\n",
        "\n",
        "# Insert your code here for Task 1\n",
        "\n",
        "\n",
        "\n"
      ]
    },
    {
      "cell_type": "code",
      "execution_count": 89,
      "metadata": {
        "id": "94c_H8Yv7IDs"
      },
      "outputs": [
        {
          "name": "stderr",
          "output_type": "stream",
          "text": [
            "c:\\Users\\shahe\\anaconda3\\envs\\tutorials\\lib\\site-packages\\torchvision\\models\\_utils.py:208: UserWarning: The parameter 'pretrained' is deprecated since 0.13 and may be removed in the future, please use 'weights' instead.\n",
            "  warnings.warn(\n",
            "c:\\Users\\shahe\\anaconda3\\envs\\tutorials\\lib\\site-packages\\torchvision\\models\\_utils.py:223: UserWarning: Arguments other than a weight enum or `None` for 'weights' are deprecated since 0.13 and may be removed in the future. The current behavior is equivalent to passing `weights=DenseNet121_Weights.IMAGENET1K_V1`. You can also use `weights=DenseNet121_Weights.DEFAULT` to get the most up-to-date weights.\n",
            "  warnings.warn(msg)\n"
          ]
        },
        {
          "name": "stdout",
          "output_type": "stream",
          "text": [
            "780\n",
            "Test Set Length: 78\n",
            "Train Set Length: 702\n"
          ]
        }
      ],
      "source": [
        "import os\n",
        "import numpy as np\n",
        "import random\n",
        "import torch\n",
        "import torchvision.transforms as transforms\n",
        "from torchvision.models import densenet121\n",
        "from torch.autograd import Variable\n",
        "from PIL import Image\n",
        "import matplotlib.pyplot as plt\n",
        "\n",
        "# Load pre-trained DenseNet model\n",
        "model = densenet121(pretrained=True)\n",
        "\n",
        "# Remove the classification layer (last fully connected layer)\n",
        "model = torch.nn.Sequential(*list(model.children())[:-1])\n",
        "\n",
        "# Add a global average pooling layer\n",
        "model.add_module('global_avg_pool', torch.nn.AdaptiveAvgPool2d(1))\n",
        "\n",
        "# Set the model to evaluation mode\n",
        "model.eval()\n",
        "\n",
        "# Define the image preprocessing pipeline\n",
        "preprocess = transforms.Compose([\n",
        "    transforms.Resize(256),\n",
        "    transforms.CenterCrop(224),\n",
        "    transforms.ToTensor(),\n",
        "    transforms.Normalize(mean=[0.485, 0.456, 0.406], std=[0.229, 0.224, 0.225]),\n",
        "])\n",
        "\n",
        "# Load dataset folder\n",
        "imageNames = []\n",
        "extractedFeatures = []\n",
        "\n",
        "#shouldn't need to change the root directory if you pulled correctly\n",
        "for root, _, files in os.walk('.\\\\train-20240206T024149Z-001\\\\train'):\n",
        "    for file in files:\n",
        "            imageNames.append(os.path.join(root, file))\n",
        "            # Load an image\n",
        "            image_path = os.path.join(root, file)\n",
        "\n",
        "            # get_image_files(image_path)\n",
        "\n",
        "            image = Image.open(image_path)\n",
        "\n",
        "            # Preprocess the image\n",
        "            input_tensor = preprocess(image)\n",
        "            input_batch = input_tensor.unsqueeze(0)  # Add a batch dimension\n",
        "\n",
        "            # Wrap the input tensor in a Variable\n",
        "            input_var = Variable(input_batch)\n",
        "\n",
        "            # Forward pass through the model\n",
        "            features = model(input_var)\n",
        "\n",
        "            # Extract the feature tensor\n",
        "            feature_vector = features.squeeze().detach().numpy()\n",
        "\n",
        "            # Now 'feature_vector' contains the feature from the last fully connected layer of DenseNet\n",
        "            #print(\"Feature vector shape:\", feature_vector.shape)\n",
        "            # for feature in feature_vector:\n",
        "            #     print(feature)\n",
        "            extractedFeatures.append(feature_vector)\n",
        "\n",
        "#check to see if all images were parsed through\n",
        "print(len(extractedFeatures))\n",
        "\n",
        "# Needed to convert to np array. was having issues with just normal list\n",
        "extractedFeatures = np.array(extractedFeatures)\n",
        "\n",
        "# Splitting the data\n",
        "tenPercentLength = int(len(extractedFeatures) * 0.1)\n",
        "randomIndices = np.random.choice(len(extractedFeatures), size=tenPercentLength, replace=False)\n",
        "\n",
        "# Extract the elements corresponding to the random indices for test set\n",
        "validationFeatures = extractedFeatures[randomIndices]\n",
        "validationImageNames = [imageNames[i] for i in randomIndices]\n",
        "\n",
        "# Extract the remaining elements for training set\n",
        "trainFeatures = np.delete(extractedFeatures, randomIndices, axis=0)\n",
        "trainImageNames = [imageNames[i] for i in range(len(imageNames)) if i not in randomIndices]\n",
        "\n",
        "# I (Jared) needed this for KMeans (if anyone else needs this I (Jared) can explain how it works)\n",
        "# Get the letter labels for validation and training sets\n",
        "validationLabels = [label.split('\\\\')[-2][-1] for label in validationImageNames]\n",
        "trainLabels = [label.split('\\\\')[-2][-1] for label in trainImageNames]\n",
        "\n",
        "# Create a mapping between letter labels and numeric labels\n",
        "unique_labels = np.unique(trainLabels)\n",
        "label_mapping = {label: i for i, label in enumerate(unique_labels)}\n",
        "\n",
        "# Convert letter labels to numeric labels\n",
        "validationLabelsNum = [label_mapping[label] for label in validationLabels]\n",
        "trainLabelsNum = [label_mapping[label] for label in trainLabels]\n",
        "\n",
        "print('Test Set Length:', len(validationFeatures))\n",
        "print('Train Set Length:', len(trainFeatures))"
      ]
    },
    {
      "cell_type": "markdown",
      "metadata": {
        "id": "2DguMbSShmHT"
      },
      "source": [
        "# Task 2: High Bias Classification Method (5%)\n",
        "# Choose a classification method and let is have a high bias.\n",
        "# Train it on the generated features and discuss why it is underfitting.\n",
        "\n",
        "# Insert your code here for Task 2\n",
        "\n",
        "\n"
      ]
    },
    {
      "cell_type": "code",
      "execution_count": 90,
      "metadata": {
        "id": "xG7aIh1lhpW3"
      },
      "outputs": [
        {
          "name": "stdout",
          "output_type": "stream",
          "text": [
            "Train MSE: 0.0013331778881238642\n",
            "Validation MSE: 70.5313351092744\n",
            "The low MSE for the train set is expected but the high MSE for the validation set indicates that the data is far \n",
            "from the line of best fit. This shows that the data is underfitted given the high bias.\n"
          ]
        }
      ],
      "source": [
        "# Linear regression chosen as classification method\n",
        "from sklearn.linear_model import LinearRegression\n",
        "from sklearn.metrics import mean_squared_error\n",
        "\n",
        "model = LinearRegression()\n",
        "\n",
        "# Fit training data and model\n",
        "model.fit(trainFeatures, trainLabelsNum)\n",
        "\n",
        "# Run model on train and val sets\n",
        "trainPredictions = model.predict(trainFeatures)\n",
        "valPredictions = model.predict(validationFeatures)\n",
        "\n",
        "# MSE on training and validation sets\n",
        "trainMSE = mean_squared_error(trainLabelsNum, trainPredictions)\n",
        "valMSE = mean_squared_error(validationLabelsNum, valPredictions)\n",
        "\n",
        "print(\"Train MSE:\", trainMSE)\n",
        "print(\"Validation MSE:\", valMSE)\n",
        "\n",
        "print(\"The low MSE for the train set is expected but the high MSE for the validation set indicates that the data is far \\nfrom the line of best fit. This shows that the data is underfitted given the high bias.\")"
      ]
    },
    {
      "cell_type": "markdown",
      "metadata": {
        "id": "kR8MxxoGhpxF"
      },
      "source": [
        "# Task 3: High Variance Classification Method (5%)\n",
        "# Use the chosen classification method and let it have a high variance.\n",
        "# Train it on the generated features and discuss why it is overfitting.\n",
        "\n",
        "# Insert your code here for Task 3\n",
        "\n",
        "\n"
      ]
    },
    {
      "cell_type": "code",
      "execution_count": 91,
      "metadata": {
        "id": "TrsSDN_7huYB"
      },
      "outputs": [
        {
          "name": "stdout",
          "output_type": "stream",
          "text": [
            "Train MSE: 6.328411830656835e-10\n",
            "Validation MSE: 3.6674301125757003\n",
            "The MSE for the validation set is much lower compared to task 2. This shows that the data point is \n",
            "very close to the line of best fit indicating overfitting.\n"
          ]
        }
      ],
      "source": [
        "from sklearn.preprocessing import PolynomialFeatures\n",
        "from sklearn.linear_model import LinearRegression\n",
        "from sklearn.metrics import mean_squared_error\n",
        "\n",
        "\n",
        "# Create polynomial features\n",
        "polyFeatures = PolynomialFeatures(2)\n",
        "trainFeaturesPoly = polyFeatures.fit_transform(trainFeatures)\n",
        "validationFeaturesPoly = polyFeatures.transform(validationFeatures)\n",
        "\n",
        "model = LinearRegression()\n",
        "\n",
        "# Fit the model to the training data\n",
        "model.fit(trainFeaturesPoly, trainLabelsNum)\n",
        "\n",
        "# Run model on train and val sets\n",
        "trainPredictionsHighV = model.predict(trainFeaturesPoly)\n",
        "valPredictionsHighV = model.predict(validationFeaturesPoly)\n",
        "\n",
        "# MSE on training and validation sets\n",
        "trainMSEHighV = mean_squared_error(trainLabelsNum, trainPredictionsHighV)\n",
        "valMSEHighV = mean_squared_error(validationLabelsNum, valPredictionsHighV)\n",
        "\n",
        "print(\"Train MSE:\", trainMSEHighV)\n",
        "print(\"Validation MSE:\", valMSEHighV)\n",
        "\n",
        "print(\"The MSE for the validation set is much lower compared to task 2. This shows that the data point is \\nvery close to the line of best fit indicating overfitting.\")"
      ]
    },
    {
      "cell_type": "markdown",
      "metadata": {
        "id": "yzxSVPWXht-m"
      },
      "source": [
        "# Task 4: Balanced Classification Method (15%)\n",
        "# Use the chosen classification method and let it balance the bias and variance.\n",
        "# Train it on the generated features, possibly adjusting parameters.\n",
        "# Discuss insights into achieving balance.\n",
        "\n",
        "# Insert your code here for Task 4\n",
        "\n",
        "\n"
      ]
    },
    {
      "cell_type": "code",
      "execution_count": 92,
      "metadata": {
        "id": "hjgmSxk7h7vZ"
      },
      "outputs": [
        {
          "name": "stdout",
          "output_type": "stream",
          "text": [
            "To balance the bias and variance in linear regression, a regularization method called Ridge (also known as L2) is used in this Task. \n",
            "It reduces overfitting by dicsouraging large coefficients in the model.\n",
            "\n",
            "Training MSE: 0.7242626138766364\n",
            "Validation MSE: 10.209406954227456\n",
            "The validation MSE value indicates a balanced fit as it lands between the underfitted Task 2 and overfitted Task 3. \n",
            "Higher parameter values reduce MSE, while lower values increase it.\n"
          ]
        }
      ],
      "source": [
        "print(\"To balance the bias and variance in linear regression, a regularization method called Ridge (also known as L2) is used in this Task. \\nIt reduces overfitting by dicsouraging large coefficients in the model.\\n\")\n",
        "from sklearn.linear_model import Ridge\n",
        "\n",
        "#Introduce an adjustable regularization parameter for Ridge\n",
        "reg_parameter = 0.15\n",
        "\n",
        "#Initialize Ridge\n",
        "ridge_balanced = Ridge(reg_parameter)\n",
        "\n",
        "#Fit the Ridge model to the Task 1 outputs\n",
        "ridge_balanced.fit(trainFeatures, trainLabelsNum)\n",
        "\n",
        "#Predict the training and validation set labels\n",
        "train_labels_balanced = ridge_balanced.predict(trainFeatures)\n",
        "valid_labels_balanced = ridge_balanced.predict(validationFeatures)\n",
        "\n",
        "#MSE for the training and validations sets\n",
        "train_MSE_balanced = mean_squared_error(trainLabelsNum, train_labels_balanced)\n",
        "valid_MSE_balanced = mean_squared_error(validationLabelsNum, valid_labels_balanced)\n",
        "\n",
        "print(\"Training MSE:\", train_MSE_balanced)\n",
        "print(\"Validation MSE:\", valid_MSE_balanced)\n",
        "print(\"The validation MSE value indicates a balanced fit as it lands between the underfitted Task 2 and overfitted Task 3. \\nHigher parameter values reduce MSE, while lower values increase it.\")\n"
      ]
    },
    {
      "cell_type": "markdown",
      "metadata": {
        "id": "ZKRG3PfFh8Ot"
      },
      "source": [
        "# Task 5: K-Means Clustering (20%)\n",
        "# Apply K-Means clustering on the generated features.\n",
        "# Test with available labels and report accuracy.\n",
        "# Experiment with automated K and compare with manually set 20 clusters.\n",
        "\n",
        "# Insert your code here for Task 5\n",
        "\n",
        "\n"
      ]
    },
    {
      "cell_type": "code",
      "execution_count": 93,
      "metadata": {
        "id": "VLuOkJyAh-mN"
      },
      "outputs": [
        {
          "name": "stderr",
          "output_type": "stream",
          "text": [
            "c:\\Users\\shahe\\anaconda3\\envs\\tutorials\\lib\\site-packages\\sklearn\\cluster\\_kmeans.py:1416: FutureWarning: The default value of `n_init` will change from 10 to 'auto' in 1.4. Set the value of `n_init` explicitly to suppress the warning\n",
            "  super()._check_params_vs_input(X, default_n_init=10)\n"
          ]
        },
        {
          "name": "stdout",
          "output_type": "stream",
          "text": [
            "Accuracy K (20) =  0.8461538461538461\n"
          ]
        },
        {
          "name": "stderr",
          "output_type": "stream",
          "text": [
            "c:\\Users\\shahe\\anaconda3\\envs\\tutorials\\lib\\site-packages\\sklearn\\cluster\\_kmeans.py:1416: FutureWarning: The default value of `n_init` will change from 10 to 'auto' in 1.4. Set the value of `n_init` explicitly to suppress the warning\n",
            "  super()._check_params_vs_input(X, default_n_init=10)\n",
            "c:\\Users\\shahe\\anaconda3\\envs\\tutorials\\lib\\site-packages\\sklearn\\cluster\\_kmeans.py:1416: FutureWarning: The default value of `n_init` will change from 10 to 'auto' in 1.4. Set the value of `n_init` explicitly to suppress the warning\n",
            "  super()._check_params_vs_input(X, default_n_init=10)\n",
            "c:\\Users\\shahe\\anaconda3\\envs\\tutorials\\lib\\site-packages\\sklearn\\cluster\\_kmeans.py:1416: FutureWarning: The default value of `n_init` will change from 10 to 'auto' in 1.4. Set the value of `n_init` explicitly to suppress the warning\n",
            "  super()._check_params_vs_input(X, default_n_init=10)\n",
            "c:\\Users\\shahe\\anaconda3\\envs\\tutorials\\lib\\site-packages\\sklearn\\cluster\\_kmeans.py:1416: FutureWarning: The default value of `n_init` will change from 10 to 'auto' in 1.4. Set the value of `n_init` explicitly to suppress the warning\n",
            "  super()._check_params_vs_input(X, default_n_init=10)\n",
            "c:\\Users\\shahe\\anaconda3\\envs\\tutorials\\lib\\site-packages\\sklearn\\cluster\\_kmeans.py:1416: FutureWarning: The default value of `n_init` will change from 10 to 'auto' in 1.4. Set the value of `n_init` explicitly to suppress the warning\n",
            "  super()._check_params_vs_input(X, default_n_init=10)\n",
            "c:\\Users\\shahe\\anaconda3\\envs\\tutorials\\lib\\site-packages\\sklearn\\cluster\\_kmeans.py:1416: FutureWarning: The default value of `n_init` will change from 10 to 'auto' in 1.4. Set the value of `n_init` explicitly to suppress the warning\n",
            "  super()._check_params_vs_input(X, default_n_init=10)\n",
            "c:\\Users\\shahe\\anaconda3\\envs\\tutorials\\lib\\site-packages\\sklearn\\cluster\\_kmeans.py:1416: FutureWarning: The default value of `n_init` will change from 10 to 'auto' in 1.4. Set the value of `n_init` explicitly to suppress the warning\n",
            "  super()._check_params_vs_input(X, default_n_init=10)\n",
            "c:\\Users\\shahe\\anaconda3\\envs\\tutorials\\lib\\site-packages\\sklearn\\cluster\\_kmeans.py:1416: FutureWarning: The default value of `n_init` will change from 10 to 'auto' in 1.4. Set the value of `n_init` explicitly to suppress the warning\n",
            "  super()._check_params_vs_input(X, default_n_init=10)\n",
            "c:\\Users\\shahe\\anaconda3\\envs\\tutorials\\lib\\site-packages\\sklearn\\cluster\\_kmeans.py:1416: FutureWarning: The default value of `n_init` will change from 10 to 'auto' in 1.4. Set the value of `n_init` explicitly to suppress the warning\n",
            "  super()._check_params_vs_input(X, default_n_init=10)\n",
            "c:\\Users\\shahe\\anaconda3\\envs\\tutorials\\lib\\site-packages\\sklearn\\cluster\\_kmeans.py:1416: FutureWarning: The default value of `n_init` will change from 10 to 'auto' in 1.4. Set the value of `n_init` explicitly to suppress the warning\n",
            "  super()._check_params_vs_input(X, default_n_init=10)\n",
            "c:\\Users\\shahe\\anaconda3\\envs\\tutorials\\lib\\site-packages\\sklearn\\cluster\\_kmeans.py:1416: FutureWarning: The default value of `n_init` will change from 10 to 'auto' in 1.4. Set the value of `n_init` explicitly to suppress the warning\n",
            "  super()._check_params_vs_input(X, default_n_init=10)\n",
            "c:\\Users\\shahe\\anaconda3\\envs\\tutorials\\lib\\site-packages\\sklearn\\cluster\\_kmeans.py:1416: FutureWarning: The default value of `n_init` will change from 10 to 'auto' in 1.4. Set the value of `n_init` explicitly to suppress the warning\n",
            "  super()._check_params_vs_input(X, default_n_init=10)\n",
            "c:\\Users\\shahe\\anaconda3\\envs\\tutorials\\lib\\site-packages\\sklearn\\cluster\\_kmeans.py:1416: FutureWarning: The default value of `n_init` will change from 10 to 'auto' in 1.4. Set the value of `n_init` explicitly to suppress the warning\n",
            "  super()._check_params_vs_input(X, default_n_init=10)\n",
            "c:\\Users\\shahe\\anaconda3\\envs\\tutorials\\lib\\site-packages\\sklearn\\cluster\\_kmeans.py:1416: FutureWarning: The default value of `n_init` will change from 10 to 'auto' in 1.4. Set the value of `n_init` explicitly to suppress the warning\n",
            "  super()._check_params_vs_input(X, default_n_init=10)\n",
            "c:\\Users\\shahe\\anaconda3\\envs\\tutorials\\lib\\site-packages\\sklearn\\cluster\\_kmeans.py:1416: FutureWarning: The default value of `n_init` will change from 10 to 'auto' in 1.4. Set the value of `n_init` explicitly to suppress the warning\n",
            "  super()._check_params_vs_input(X, default_n_init=10)\n",
            "c:\\Users\\shahe\\anaconda3\\envs\\tutorials\\lib\\site-packages\\sklearn\\cluster\\_kmeans.py:1416: FutureWarning: The default value of `n_init` will change from 10 to 'auto' in 1.4. Set the value of `n_init` explicitly to suppress the warning\n",
            "  super()._check_params_vs_input(X, default_n_init=10)\n",
            "c:\\Users\\shahe\\anaconda3\\envs\\tutorials\\lib\\site-packages\\sklearn\\cluster\\_kmeans.py:1416: FutureWarning: The default value of `n_init` will change from 10 to 'auto' in 1.4. Set the value of `n_init` explicitly to suppress the warning\n",
            "  super()._check_params_vs_input(X, default_n_init=10)\n",
            "c:\\Users\\shahe\\anaconda3\\envs\\tutorials\\lib\\site-packages\\sklearn\\cluster\\_kmeans.py:1416: FutureWarning: The default value of `n_init` will change from 10 to 'auto' in 1.4. Set the value of `n_init` explicitly to suppress the warning\n",
            "  super()._check_params_vs_input(X, default_n_init=10)\n",
            "c:\\Users\\shahe\\anaconda3\\envs\\tutorials\\lib\\site-packages\\sklearn\\cluster\\_kmeans.py:1416: FutureWarning: The default value of `n_init` will change from 10 to 'auto' in 1.4. Set the value of `n_init` explicitly to suppress the warning\n",
            "  super()._check_params_vs_input(X, default_n_init=10)\n",
            "c:\\Users\\shahe\\anaconda3\\envs\\tutorials\\lib\\site-packages\\sklearn\\cluster\\_kmeans.py:1416: FutureWarning: The default value of `n_init` will change from 10 to 'auto' in 1.4. Set the value of `n_init` explicitly to suppress the warning\n",
            "  super()._check_params_vs_input(X, default_n_init=10)\n",
            "c:\\Users\\shahe\\anaconda3\\envs\\tutorials\\lib\\site-packages\\sklearn\\cluster\\_kmeans.py:1416: FutureWarning: The default value of `n_init` will change from 10 to 'auto' in 1.4. Set the value of `n_init` explicitly to suppress the warning\n",
            "  super()._check_params_vs_input(X, default_n_init=10)\n",
            "c:\\Users\\shahe\\anaconda3\\envs\\tutorials\\lib\\site-packages\\sklearn\\cluster\\_kmeans.py:1416: FutureWarning: The default value of `n_init` will change from 10 to 'auto' in 1.4. Set the value of `n_init` explicitly to suppress the warning\n",
            "  super()._check_params_vs_input(X, default_n_init=10)\n",
            "c:\\Users\\shahe\\anaconda3\\envs\\tutorials\\lib\\site-packages\\sklearn\\cluster\\_kmeans.py:1416: FutureWarning: The default value of `n_init` will change from 10 to 'auto' in 1.4. Set the value of `n_init` explicitly to suppress the warning\n",
            "  super()._check_params_vs_input(X, default_n_init=10)\n",
            "c:\\Users\\shahe\\anaconda3\\envs\\tutorials\\lib\\site-packages\\sklearn\\cluster\\_kmeans.py:1416: FutureWarning: The default value of `n_init` will change from 10 to 'auto' in 1.4. Set the value of `n_init` explicitly to suppress the warning\n",
            "  super()._check_params_vs_input(X, default_n_init=10)\n",
            "c:\\Users\\shahe\\anaconda3\\envs\\tutorials\\lib\\site-packages\\sklearn\\cluster\\_kmeans.py:1416: FutureWarning: The default value of `n_init` will change from 10 to 'auto' in 1.4. Set the value of `n_init` explicitly to suppress the warning\n",
            "  super()._check_params_vs_input(X, default_n_init=10)\n",
            "c:\\Users\\shahe\\anaconda3\\envs\\tutorials\\lib\\site-packages\\sklearn\\cluster\\_kmeans.py:1416: FutureWarning: The default value of `n_init` will change from 10 to 'auto' in 1.4. Set the value of `n_init` explicitly to suppress the warning\n",
            "  super()._check_params_vs_input(X, default_n_init=10)\n",
            "c:\\Users\\shahe\\anaconda3\\envs\\tutorials\\lib\\site-packages\\sklearn\\cluster\\_kmeans.py:1416: FutureWarning: The default value of `n_init` will change from 10 to 'auto' in 1.4. Set the value of `n_init` explicitly to suppress the warning\n",
            "  super()._check_params_vs_input(X, default_n_init=10)\n",
            "c:\\Users\\shahe\\anaconda3\\envs\\tutorials\\lib\\site-packages\\sklearn\\cluster\\_kmeans.py:1416: FutureWarning: The default value of `n_init` will change from 10 to 'auto' in 1.4. Set the value of `n_init` explicitly to suppress the warning\n",
            "  super()._check_params_vs_input(X, default_n_init=10)\n",
            "c:\\Users\\shahe\\anaconda3\\envs\\tutorials\\lib\\site-packages\\sklearn\\cluster\\_kmeans.py:1416: FutureWarning: The default value of `n_init` will change from 10 to 'auto' in 1.4. Set the value of `n_init` explicitly to suppress the warning\n",
            "  super()._check_params_vs_input(X, default_n_init=10)\n",
            "c:\\Users\\shahe\\anaconda3\\envs\\tutorials\\lib\\site-packages\\sklearn\\cluster\\_kmeans.py:1416: FutureWarning: The default value of `n_init` will change from 10 to 'auto' in 1.4. Set the value of `n_init` explicitly to suppress the warning\n",
            "  super()._check_params_vs_input(X, default_n_init=10)\n",
            "c:\\Users\\shahe\\anaconda3\\envs\\tutorials\\lib\\site-packages\\sklearn\\cluster\\_kmeans.py:1416: FutureWarning: The default value of `n_init` will change from 10 to 'auto' in 1.4. Set the value of `n_init` explicitly to suppress the warning\n",
            "  super()._check_params_vs_input(X, default_n_init=10)\n",
            "c:\\Users\\shahe\\anaconda3\\envs\\tutorials\\lib\\site-packages\\sklearn\\cluster\\_kmeans.py:1416: FutureWarning: The default value of `n_init` will change from 10 to 'auto' in 1.4. Set the value of `n_init` explicitly to suppress the warning\n",
            "  super()._check_params_vs_input(X, default_n_init=10)\n",
            "c:\\Users\\shahe\\anaconda3\\envs\\tutorials\\lib\\site-packages\\sklearn\\cluster\\_kmeans.py:1416: FutureWarning: The default value of `n_init` will change from 10 to 'auto' in 1.4. Set the value of `n_init` explicitly to suppress the warning\n",
            "  super()._check_params_vs_input(X, default_n_init=10)\n",
            "c:\\Users\\shahe\\anaconda3\\envs\\tutorials\\lib\\site-packages\\sklearn\\cluster\\_kmeans.py:1416: FutureWarning: The default value of `n_init` will change from 10 to 'auto' in 1.4. Set the value of `n_init` explicitly to suppress the warning\n",
            "  super()._check_params_vs_input(X, default_n_init=10)\n",
            "c:\\Users\\shahe\\anaconda3\\envs\\tutorials\\lib\\site-packages\\sklearn\\cluster\\_kmeans.py:1416: FutureWarning: The default value of `n_init` will change from 10 to 'auto' in 1.4. Set the value of `n_init` explicitly to suppress the warning\n",
            "  super()._check_params_vs_input(X, default_n_init=10)\n",
            "c:\\Users\\shahe\\anaconda3\\envs\\tutorials\\lib\\site-packages\\sklearn\\cluster\\_kmeans.py:1416: FutureWarning: The default value of `n_init` will change from 10 to 'auto' in 1.4. Set the value of `n_init` explicitly to suppress the warning\n",
            "  super()._check_params_vs_input(X, default_n_init=10)\n",
            "c:\\Users\\shahe\\anaconda3\\envs\\tutorials\\lib\\site-packages\\sklearn\\cluster\\_kmeans.py:1416: FutureWarning: The default value of `n_init` will change from 10 to 'auto' in 1.4. Set the value of `n_init` explicitly to suppress the warning\n",
            "  super()._check_params_vs_input(X, default_n_init=10)\n",
            "c:\\Users\\shahe\\anaconda3\\envs\\tutorials\\lib\\site-packages\\sklearn\\cluster\\_kmeans.py:1416: FutureWarning: The default value of `n_init` will change from 10 to 'auto' in 1.4. Set the value of `n_init` explicitly to suppress the warning\n",
            "  super()._check_params_vs_input(X, default_n_init=10)\n",
            "c:\\Users\\shahe\\anaconda3\\envs\\tutorials\\lib\\site-packages\\sklearn\\cluster\\_kmeans.py:1416: FutureWarning: The default value of `n_init` will change from 10 to 'auto' in 1.4. Set the value of `n_init` explicitly to suppress the warning\n",
            "  super()._check_params_vs_input(X, default_n_init=10)\n"
          ]
        },
        {
          "name": "stdout",
          "output_type": "stream",
          "text": [
            "Automated K Value =  32\n"
          ]
        },
        {
          "name": "stderr",
          "output_type": "stream",
          "text": [
            "c:\\Users\\shahe\\anaconda3\\envs\\tutorials\\lib\\site-packages\\sklearn\\cluster\\_kmeans.py:1416: FutureWarning: The default value of `n_init` will change from 10 to 'auto' in 1.4. Set the value of `n_init` explicitly to suppress the warning\n",
            "  super()._check_params_vs_input(X, default_n_init=10)\n"
          ]
        },
        {
          "name": "stdout",
          "output_type": "stream",
          "text": [
            "Accuracy K (Auto) =  0.7435897435897436\n"
          ]
        }
      ],
      "source": [
        "from sklearn.cluster import KMeans\n",
        "from scipy.optimize import linear_sum_assignment\n",
        "from sklearn.metrics import confusion_matrix\n",
        "from sklearn.metrics import accuracy_score\n",
        "\n",
        "##### HELPER FUNCTIONS #####\n",
        "\n",
        "# helper function to map the labels from the KMeans data to the training data\n",
        "def map_labels(train_labels, cluster_labels, predict_labels):\n",
        "\n",
        "    # Compute confusion matrix\n",
        "    conf_matrix = confusion_matrix(train_labels, cluster_labels)\n",
        "\n",
        "    # Apply the Hungarian algorithm to find the best matching\n",
        "    row_ind, col_ind = linear_sum_assignment(-conf_matrix)\n",
        "\n",
        "    # Map KMeans labels to train labels based on the best matching\n",
        "    label_mapping = {k: v for k, v in zip(col_ind, row_ind)}\n",
        "\n",
        "    # Map prediction (KMean) labels to original labels\n",
        "    prediction_mapped = [label_mapping[label] for label in predict_labels]\n",
        "\n",
        "    return prediction_mapped\n",
        "\n",
        "# helper function to auto select the value of K (clusters) using the elbow method\n",
        "def autoK(features, max_clusters):\n",
        "    wcss = []\n",
        "    \n",
        "    # iterate through K = 2, 3, ..., max_clusters + 1 and keep track of WCSS value for each\n",
        "    for i in range(2, max_clusters + 1):\n",
        "        kmeans = KMeans(n_clusters = i, init='k-means++', random_state = 420)\n",
        "        kmeans.fit(features)\n",
        "        wcss.append(kmeans.inertia_)\n",
        "\n",
        "    # Calculate the first derivative of the WCSS and use it to find the elbow point\n",
        "    differences = np.diff(wcss)\n",
        "    elbow_point = np.argmax(differences) + 1\n",
        "        \n",
        "    return elbow_point\n",
        "\n",
        "##### MAIN CODE #####\n",
        "\n",
        "# Apply KMeans clustering to data using K clusters = 20\n",
        "kmeans_man = KMeans(n_clusters = 20, random_state = 420)\n",
        "kmeans_man.fit(trainFeatures)\n",
        "\n",
        "# predict test data and map the predicted clusters numbers to the corresponding trained cluster numbers\n",
        "prediction_man = kmeans_man.predict(validationFeatures)\n",
        "prediction_man_mapped = map_labels(trainLabelsNum, kmeans_man.labels_, prediction_man)\n",
        "\n",
        "# check accuracy\n",
        "accuracy = accuracy_score(validationLabelsNum, prediction_man_mapped)\n",
        "print(\"Accuracy K (20) = \", accuracy)\n",
        "\n",
        "# set K (auto)\n",
        "K = autoK(trainFeatures, max_clusters = 40)\n",
        "print(\"Automated K Value = \", K)\n",
        "\n",
        "# Apply KMeans clustering to data using K clusters = auto\n",
        "kmeans_auto = KMeans(n_clusters = K, random_state = 420)\n",
        "kmeans_auto.fit(trainFeatures)\n",
        "\n",
        "# predict test data and map the predicted clusters numbers to the corresponding trained cluster numbers\n",
        "prediction_auto = kmeans_auto.predict(validationFeatures)\n",
        "prediction_auto_mapped = map_labels(trainLabelsNum, kmeans_auto.labels_, prediction_auto)\n",
        "\n",
        "# check accuracy\n",
        "accuracy = accuracy_score(validationLabelsNum, prediction_auto_mapped)\n",
        "print(\"Accuracy K (Auto) = \", accuracy)\n",
        "\n",
        "#plot results\n",
        "#fig = plt.figure(2, figsize = (11,4))\n",
        "\n",
        "# K = 20\n",
        "#ax = fig.add_subplot(121, projection='3d')\n",
        "#ax.scatter(trainFeatures[:,0],trainFeatures[:,1], trainFeatures[:,2], c=labels_man, cmap='Set2')\n",
        "#plt.title('KMeans using sklearn, K = 20')\n",
        "\n",
        "# auto K\n",
        "#ax = fig.add_subplot(122,projection='3d')\n",
        "#ax.scatter(trainFeatures[:,0],trainFeatures[:,1], trainFeatures[:,2], c=labels_auto, cmap='Set2')\n",
        "#plt.title('KMeans using sklearn, K = auto')\n",
        "#plt.show()\n"
      ]
    },
    {
      "cell_type": "markdown",
      "metadata": {
        "id": "43sPfI7Jh-9p"
      },
      "source": [
        "# Task 6: Additional Clustering Algorithm (10%)\n",
        "# Choose another clustering algorithm and apply it on the features.\n",
        "# Test accuracy with available labels.\n",
        "\n",
        "# Insert your code here for Task 6\n",
        "\n",
        "\n"
      ]
    },
    {
      "cell_type": "code",
      "execution_count": 94,
      "metadata": {
        "id": "Nn9f41LWiCDr"
      },
      "outputs": [
        {
          "name": "stdout",
          "output_type": "stream",
          "text": [
            "Accuracy: 0.8333333333333334\n",
            "High accuracy score is indicative of good model performance. To achieve this, the max depth of the decision tree had to be experimentally gradually increased to 20.\n"
          ]
        }
      ],
      "source": [
        "from sklearn.cluster import AgglomerativeClustering\n",
        "from sklearn.tree import DecisionTreeClassifier\n",
        "\n",
        "\n",
        "#Define the clustering model using Decision Tree\n",
        "dec_tree_class = DecisionTreeClassifier(max_depth=20, random_state=56)\n",
        "\n",
        "#Fit the Task 1 output to the clustering model\n",
        "dec_tree_class.fit(trainFeatures, trainLabelsNum)\n",
        "\n",
        "#Produce clusters (labels) for the validation set by prediction\n",
        "validation_clusters = dec_tree_class.predict(validationFeatures)\n",
        "\n",
        "#Test accuracy using available labels\n",
        "accuracy = accuracy_score(validationLabelsNum, validation_clusters)\n",
        "print(\"Accuracy:\", accuracy)\n",
        "print(\"High accuracy score is indicative of good model performance. To achieve this, the max depth of the decision tree had to be experimentally gradually increased to 20.\")"
      ]
    },
    {
      "cell_type": "markdown",
      "metadata": {
        "id": "3fPfoBsaiCXu"
      },
      "source": [
        "# Task 7: PCA for Classification Improvement (20%)\n",
        "# Apply PCA on the features and then feed them to the best classification method in the above tasks.\n",
        "# Assess if PCA improves outcomes and discuss the results.\n",
        "\n",
        "# Insert your code here for Task 7\n",
        "\n",
        "\n"
      ]
    },
    {
      "cell_type": "code",
      "execution_count": 97,
      "metadata": {
        "id": "RoOFXhdmiHeD"
      },
      "outputs": [
        {
          "name": "stdout",
          "output_type": "stream",
          "text": [
            "\n",
            "Applying dimensionality reduction using PCA:\n",
            "\n",
            "Original dimensions: (702, 1024)\n",
            "Reduced dimensions using sklearn for trial: (702, 50)\n",
            "Eigenvalues of the covariance matrix of this data will be used to generate the scree plots below.\n",
            "\n",
            "Reduced dimensions of training data using sklearn for final implementation: (702, 9)\n",
            "Reduced dimensions of validation data using sklearn for final implementation: (78, 9)\n",
            "By applying PCA for dimensionality reduction, we should have less noise in the data when running classification methods.\n",
            "\n",
            "Applying Ridge Regression to the projected data and comparing with previous results:\n",
            "\n",
            "Previous Training MSE: 0.7242626138766364\n",
            "New Training MSE with PCA: 15.292853807482059\n",
            "Previous validation MSE: 10.209406954227456\n",
            "New Validation MSE with PCA: 15.081522129672207\n",
            "\n",
            "Note how the validation MSE is lower when running Ridge Regression on lower dimensional data found through PCA; this is an improvement in the outcome.\n",
            "It can also be seen that the training MSE is higher when using lower dimensional data than when using all 1024 features of each image.\n",
            "The new training and validation MSE values are very close, implying the model is better at generalizing the problem space.\n",
            "Since PCA reduces the noise in the data and projects points into a lower dimension to maximize their inter-cluster varience, it allows Ridge Regression to fit the data with better generalization.\n"
          ]
        },
        {
          "data": {
            "image/png": "[encoded data removed]",
            "text/plain": [
              "<Figure size 800x500 with 1 Axes>"
            ]
          },
          "metadata": {},
          "output_type": "display_data"
        },
        {
          "data": {
            "image/png": "[encoded data removed]",
            "text/plain": [
              "<Figure size 800x500 with 1 Axes>"
            ]
          },
          "metadata": {},
          "output_type": "display_data"
        }
      ],
      "source": [
        "import numpy as np\n",
        "import matplotlib.pyplot as plt\n",
        "\n",
        "# using sklearn's implementation of PCA and Ridge Regression\n",
        "from sklearn.decomposition import PCA\n",
        "from sklearn.linear_model import Ridge\n",
        "\n",
        "# Applying PCA ------------------------------------------------------------------------------------------------------------\n",
        "\n",
        "print('\\nApplying dimensionality reduction using PCA:\\n')\n",
        "\n",
        "#check current number of features (dimensions) for each image\n",
        "print('Original dimensions:', trainFeatures.shape)\n",
        "\n",
        "# project from 1024 dimensions to 50 using PCA to start\n",
        "# 50 is a large number of dimensions, but this will allow us to make a scree plot and select an ideal number of PCs\n",
        "k_trial = 50\n",
        "\n",
        "# find PCs based on training data and project them onto the first 100 PCs\n",
        "pca_trial = PCA(k_trial)  \n",
        "projected_trial = pca_trial.fit_transform(trainFeatures)\n",
        "print('Reduced dimensions using sklearn for trial:', projected_trial.shape)\n",
        "print('Eigenvalues of the covariance matrix of this data will be used to generate the scree plots below.\\n')\n",
        "# get the eigenvalues of the PCA trial \n",
        "# find the ratio of each eigenvalue to the sum of all other eigenvalues\n",
        "eigenvalues = pca_trial.explained_variance_\n",
        "eigenvalues_ratios = eigenvalues / np.sum(eigenvalues)\n",
        "\n",
        "# create a scree plot\n",
        "plt.figure(figsize=(8,5))\n",
        "plt.plot(np.arange(1, len(eigenvalues)+1), eigenvalues, marker = 'o')\n",
        "plt.xlabel('Principal Component', size = 10)\n",
        "plt.ylabel('Eigenvalue', size = 10)\n",
        "plt.title('Figure 1: Scree Plot for First 50 Eigenvalues', size = 10)\n",
        "plt.grid(True)\n",
        "\n",
        "# create a scree plot using ratios of eigenvalues\n",
        "plt.figure(figsize=(8,5))\n",
        "plt.plot(np.arange(1, len(eigenvalues_ratios)+1), eigenvalues_ratios, marker='o')\n",
        "plt.xlabel('Principal Component', size = 10)\n",
        "plt.ylabel('Proportion of Variance Explained', size = 10)\n",
        "plt.title('Figure 2: Scree Plot for Proportion of Variance Explained for First 50 Eigenvalues', size = 10)\n",
        "plt.grid(True)\n",
        "\n",
        "# based on these plots, the last significant drop occurs for PC 9\n",
        "# re-run PCA to reduce the dimensionality to 9\n",
        "# project the training and validation data on the 9 largest PCs\n",
        "\n",
        "k_final = 9\n",
        "\n",
        "pca_final = PCA(k_final)  \n",
        "projected_training_data = pca_final.fit_transform(trainFeatures)\n",
        "projected_validation_data = pca_final.transform(validationFeatures)\n",
        "print('Reduced dimensions of training data using sklearn for final implementation:', projected_training_data.shape)\n",
        "print('Reduced dimensions of validation data using sklearn for final implementation:', projected_validation_data.shape)\n",
        "\n",
        "print('By applying PCA for dimensionality reduction, we should have less noise in the data when running classification methods.')\n",
        "\n",
        "# Applying Ridge Regression ------------------------------------------------------------------------------------------\n",
        "\n",
        "# Ridge regression was the best performing classification algorithm (used in Q4)\n",
        "# The same regularization parameter was used to have a consistent comparison\n",
        "\n",
        "print('\\nApplying Ridge Regression to the projected data and comparing with previous results:\\n')\n",
        "\n",
        "#Introduce an adjustable regularization parameter for Ridge\n",
        "reg_parameter_pca = 0.05\n",
        "\n",
        "#Initialize Ridge\n",
        "ridge_balanced_pca = Ridge(reg_parameter_pca)\n",
        "\n",
        "#Fit the Ridge model to the Task 1 outputs\n",
        "ridge_balanced_pca.fit(projected_training_data, trainLabelsNum)\n",
        "\n",
        "#Predict the training and validation set labels\n",
        "train_labels_balanced_pca = ridge_balanced_pca.predict(projected_training_data)\n",
        "validLabels_balanced_pca = ridge_balanced_pca.predict(projected_validation_data)\n",
        "\n",
        "#MSE for the training and validations sets\n",
        "train_MSE_balanced_pca = mean_squared_error(trainLabelsNum, train_labels_balanced_pca)\n",
        "valid_MSE_balanced_pca = mean_squared_error(validationLabelsNum, validLabels_balanced_pca)\n",
        "print(\"Previous Training MSE:\", train_MSE_balanced)                                         # pulled from Q4\n",
        "print(\"New Training MSE with PCA:\", train_MSE_balanced_pca)\n",
        "print(\"Previous validation MSE:\", valid_MSE_balanced)                                       # pulled from Q4\n",
        "print(\"New Validation MSE with PCA:\", valid_MSE_balanced_pca)\n",
        "\n",
        "print('\\nNote how the validation MSE is lower when running Ridge Regression on lower dimensional data found through PCA; this is an improvement in the outcome.')\n",
        "print('It can also be seen that the training MSE is higher when using lower dimensional data than when using all 1024 features of each image.')\n",
        "print('The new training and validation MSE values are very close, implying the model is better at generalizing the problem space.')\n",
        "print('Since PCA reduces the noise in the data and projects points into a lower dimension to maximize their inter-cluster varience, it allows Ridge Regression to fit the data with better generalization.')"
      ]
    },
    {
      "cell_type": "markdown",
      "metadata": {
        "id": "UQqNra7eiHx-"
      },
      "source": [
        "# Task 8: Visualization and Analysis (10%)\n",
        "# Plot the features in a lower dimension using dimentinality reduction techniques.\n",
        "# Analyze the visual representation, identifying patterns or insights.\n",
        "\n",
        "# Insert your code here for Task 8"
      ]
    },
    {
      "cell_type": "code",
      "execution_count": null,
      "metadata": {
        "id": "1npTL_NkjNdL"
      },
      "outputs": [],
      "source": []
    }
  ],
  "metadata": {
    "colab": {
      "provenance": []
    },
    "kernelspec": {
      "display_name": "Python 3",
      "name": "python3"
    },
    "language_info": {
      "codemirror_mode": {
        "name": "ipython",
        "version": 3
      },
      "file_extension": ".py",
      "mimetype": "text/x-python",
      "name": "python",
      "nbconvert_exporter": "python",
      "pygments_lexer": "ipython3",
      "version": "3.6.13"
    }
  },
  "nbformat": 4,
  "nbformat_minor": 0
}
